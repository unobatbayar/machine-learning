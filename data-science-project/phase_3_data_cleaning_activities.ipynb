{
 "cells": [
  {
   "attachments": {},
   "cell_type": "markdown",
   "metadata": {},
   "source": [
    "## Data Preparation"
   ]
  },
  {
   "cell_type": "markdown",
   "metadata": {},
   "source": []
  },
  {
   "cell_type": "code",
   "execution_count": 5,
   "metadata": {},
   "outputs": [],
   "source": [
    "# Import necessary libraries\n",
    "import pandas as pd\n",
    "from sklearn.preprocessing import LabelEncoder, StandardScaler\n",
    "from sklearn.impute import SimpleImputer\n",
    "from sklearn.model_selection import train_test_split\n",
    "import pickle"
   ]
  },
  {
   "cell_type": "code",
   "execution_count": 6,
   "metadata": {},
   "outputs": [],
   "source": [
    "# Load the dataset\n",
    "data = pd.read_csv('personal-loan.csv')"
   ]
  },
  {
   "cell_type": "code",
   "execution_count": 7,
   "metadata": {},
   "outputs": [
    {
     "name": "stdout",
     "output_type": "stream",
     "text": [
      "customer_id             0\n",
      "age                   380\n",
      "yrs_experience        364\n",
      "family_size           385\n",
      "education_level         0\n",
      "income                377\n",
      "mortgage_amt            0\n",
      "credit_card_acct        0\n",
      "credit_card_spend       0\n",
      "share_trading_acct      0\n",
      "fixed_deposit_acct      0\n",
      "online_acct             0\n",
      "personal_loan           0\n",
      "dtype: int64\n"
     ]
    }
   ],
   "source": [
    "# Handle missing values\n",
    "print(data.isnull().sum())  # Check for missing values in each column\n",
    "\n",
    "# Handle missing values in numerical columns by replacing them with the column mean\n",
    "num_cols = ['age', 'yrs_experience', 'family_size', 'income', 'mortgage_amt', 'credit_card_spend']\n",
    "imputer = SimpleImputer(strategy='mean')\n",
    "data[num_cols] = imputer.fit_transform(data[num_cols])\n",
    "\n",
    "# Handle missing values in categorical columns by replacing them with the most frequent value\n",
    "cat_cols = ['education_level', 'credit_card_acct', 'fixed_deposit_acct', 'online_acct', 'personal_loan']\n",
    "for col in cat_cols:\n",
    "    data[col].fillna(data[col].mode()[0], inplace=True)\n"
   ]
  },
  {
   "cell_type": "code",
   "execution_count": 8,
   "metadata": {},
   "outputs": [],
   "source": [
    "# Convert categorical columns to numerical using label encoding\n",
    "le = LabelEncoder()\n",
    "for col in cat_cols:\n",
    "    data[col] = le.fit_transform(data[col])\n"
   ]
  },
  {
   "cell_type": "code",
   "execution_count": 9,
   "metadata": {},
   "outputs": [],
   "source": [
    "# Scale numerical columns using StandardScaler\n",
    "scaler = StandardScaler()\n",
    "data[num_cols] = scaler.fit_transform(data[num_cols])"
   ]
  },
  {
   "cell_type": "code",
   "execution_count": 10,
   "metadata": {},
   "outputs": [
    {
     "name": "stdout",
     "output_type": "stream",
     "text": [
      "Saved as prepared_data.pkl\n"
     ]
    }
   ],
   "source": [
    "# Save the data as a pickle file\n",
    "pickle.dump(data, open('prepared_data.pkl', 'wb'))\n",
    "\n",
    "# Confirmation\n",
    "print(\"Saved as prepared_data.pkl\")"
   ]
  }
 ],
 "metadata": {
  "kernelspec": {
   "display_name": "Python 3",
   "language": "python",
   "name": "python3"
  },
  "language_info": {
   "codemirror_mode": {
    "name": "ipython",
    "version": 3
   },
   "file_extension": ".py",
   "mimetype": "text/x-python",
   "name": "python",
   "nbconvert_exporter": "python",
   "pygments_lexer": "ipython3",
   "version": "3.11.3"
  },
  "orig_nbformat": 4
 },
 "nbformat": 4,
 "nbformat_minor": 2
}
